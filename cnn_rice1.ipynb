{
 "cells": [
  {
   "cell_type": "code",
   "execution_count": 21,
   "id": "dd9113d3-aea2-44d8-911e-0b311493d66f",
   "metadata": {},
   "outputs": [],
   "source": [
    "import tensorflow as tf\n",
    "from tensorflow.keras.preprocessing.image import ImageDataGenerator"
   ]
  },
  {
   "cell_type": "code",
   "execution_count": 22,
   "id": "06de06cc-c57a-42ce-a9ac-86a8f08c69ba",
   "metadata": {},
   "outputs": [
    {
     "name": "stdout",
     "output_type": "stream",
     "text": [
      "Found 800 images belonging to 2 classes.\n"
     ]
    }
   ],
   "source": [
    "train_datagen = ImageDataGenerator(\n",
    "    rescale=1./255,\n",
    "    shear_range = 0.2,\n",
    "    zoom_range = 0.2,\n",
    "    horizontal_flip = True\n",
    ")\n",
    "\n",
    "training_set = train_datagen.flow_from_directory(\n",
    "    r'E:\\rice train',\n",
    "    target_size=(64,64),\n",
    "    batch_size = 32,\n",
    "    class_mode = 'binary'\n",
    ")"
   ]
  },
  {
   "cell_type": "code",
   "execution_count": 23,
   "id": "3be440e4-42f5-430d-bfab-deb01a630c18",
   "metadata": {},
   "outputs": [
    {
     "name": "stdout",
     "output_type": "stream",
     "text": [
      "Found 206 images belonging to 2 classes.\n"
     ]
    }
   ],
   "source": [
    "test_datagen = ImageDataGenerator(rescale=1./255)\n",
    "test_set = test_datagen.flow_from_directory(\n",
    "    r'E:\\rice test',\n",
    "    target_size=(64,64),\n",
    "    batch_size=32,\n",
    "    class_mode = 'binary')"
   ]
  },
  {
   "cell_type": "code",
   "execution_count": 24,
   "id": "df4f116c-1420-4a65-af41-16339965b40f",
   "metadata": {},
   "outputs": [],
   "source": [
    "cnn = tf.keras.models.Sequential()"
   ]
  },
  {
   "cell_type": "code",
   "execution_count": 25,
   "id": "0114f79e-6416-4e30-91b5-a10df32c5198",
   "metadata": {},
   "outputs": [],
   "source": [
    "cnn = tf.keras.models.Sequential([\n",
    "    tf.keras.Input(shape=(64, 64, 3)),\n",
    "    tf.keras.layers.Conv2D(filters=32, kernel_size=3, activation='relu')\n",
    "])\n"
   ]
  },
  {
   "cell_type": "code",
   "execution_count": 26,
   "id": "5ccaf006-ef00-4a16-8984-d18a5030cfe9",
   "metadata": {},
   "outputs": [],
   "source": [
    "cnn.add(tf.keras.layers.MaxPool2D(pool_size=2, strides=2))"
   ]
  },
  {
   "cell_type": "code",
   "execution_count": 27,
   "id": "9c81c2e5-2df5-4441-91ef-682182ebf8cf",
   "metadata": {},
   "outputs": [],
   "source": [
    "cnn.add(tf.keras.layers.Conv2D(filters=32, kernel_size=3, activation='relu'))\n",
    "cnn.add(tf.keras.layers.MaxPool2D(pool_size=2, strides=2))"
   ]
  },
  {
   "cell_type": "code",
   "execution_count": 28,
   "id": "9a1bc47f-76fa-4029-8542-88559156b057",
   "metadata": {},
   "outputs": [],
   "source": [
    "cnn.add(tf.keras.layers.Flatten())"
   ]
  },
  {
   "cell_type": "code",
   "execution_count": 29,
   "id": "cb91e896-49ab-48be-a002-a9e965a89cf8",
   "metadata": {},
   "outputs": [],
   "source": [
    "cnn.add(tf.keras.layers.Dense(units= 128, activation='relu'))"
   ]
  },
  {
   "cell_type": "code",
   "execution_count": 30,
   "id": "a8a34c50-6a9a-47ad-bed8-1c43eca6d0a4",
   "metadata": {},
   "outputs": [],
   "source": [
    "cnn.add(tf.keras.layers.Dense(units= 1, activation='sigmoid'))"
   ]
  },
  {
   "cell_type": "code",
   "execution_count": 31,
   "id": "9670219c-6001-435f-b4d4-2e7194a922dd",
   "metadata": {},
   "outputs": [],
   "source": [
    "cnn.compile(optimizer = 'adam', loss = 'binary_crossentropy', metrics = ['accuracy'])"
   ]
  },
  {
   "cell_type": "code",
   "execution_count": 32,
   "id": "2a1e655d-fbc5-43e0-ba3c-1345d75ef0bd",
   "metadata": {},
   "outputs": [
    {
     "name": "stdout",
     "output_type": "stream",
     "text": [
      "Requirement already satisfied: Pillow in c:\\users\\amath\\.conda\\envs\\tf_gpu\\lib\\site-packages (11.2.1)\n"
     ]
    }
   ],
   "source": [
    "!pip install Pillow"
   ]
  },
  {
   "cell_type": "code",
   "execution_count": 33,
   "id": "857a0bd9-5423-4bbe-900a-572932f05bfc",
   "metadata": {},
   "outputs": [
    {
     "name": "stdout",
     "output_type": "stream",
     "text": [
      "11.2.1\n"
     ]
    }
   ],
   "source": [
    "import PIL\n",
    "print(PIL.__version__)\n"
   ]
  },
  {
   "cell_type": "code",
   "execution_count": 34,
   "id": "52712e56-fe7d-45cd-a05d-0835cd7d0574",
   "metadata": {},
   "outputs": [
    {
     "name": "stdout",
     "output_type": "stream",
     "text": [
      "Requirement already satisfied: scipy in c:\\users\\amath\\.conda\\envs\\tf_gpu\\lib\\site-packages (1.15.2)\n",
      "Requirement already satisfied: numpy<2.5,>=1.23.5 in c:\\users\\amath\\.conda\\envs\\tf_gpu\\lib\\site-packages (from scipy) (1.26.4)\n"
     ]
    }
   ],
   "source": [
    "!pip install scipy"
   ]
  },
  {
   "cell_type": "code",
   "execution_count": 35,
   "id": "f8add0b6-9044-4441-b5f3-104e8e2b6f4f",
   "metadata": {},
   "outputs": [
    {
     "name": "stdout",
     "output_type": "stream",
     "text": [
      "Epoch 1/25\n",
      "\u001b[1m25/25\u001b[0m \u001b[32m━━━━━━━━━━━━━━━━━━━━\u001b[0m\u001b[37m\u001b[0m \u001b[1m33s\u001b[0m 1s/step - accuracy: 0.4857 - loss: 0.7658 - val_accuracy: 0.4854 - val_loss: 0.7123\n",
      "Epoch 2/25\n",
      "\u001b[1m25/25\u001b[0m \u001b[32m━━━━━━━━━━━━━━━━━━━━\u001b[0m\u001b[37m\u001b[0m \u001b[1m22s\u001b[0m 898ms/step - accuracy: 0.5653 - loss: 0.6612 - val_accuracy: 0.3010 - val_loss: 1.0342\n",
      "Epoch 3/25\n",
      "\u001b[1m25/25\u001b[0m \u001b[32m━━━━━━━━━━━━━━━━━━━━\u001b[0m\u001b[37m\u001b[0m \u001b[1m21s\u001b[0m 850ms/step - accuracy: 0.6299 - loss: 0.6552 - val_accuracy: 0.2427 - val_loss: 0.9051\n",
      "Epoch 4/25\n",
      "\u001b[1m25/25\u001b[0m \u001b[32m━━━━━━━━━━━━━━━━━━━━\u001b[0m\u001b[37m\u001b[0m \u001b[1m21s\u001b[0m 847ms/step - accuracy: 0.6660 - loss: 0.6214 - val_accuracy: 0.2816 - val_loss: 0.9537\n",
      "Epoch 5/25\n",
      "\u001b[1m25/25\u001b[0m \u001b[32m━━━━━━━━━━━━━━━━━━━━\u001b[0m\u001b[37m\u001b[0m \u001b[1m21s\u001b[0m 838ms/step - accuracy: 0.6964 - loss: 0.5900 - val_accuracy: 0.4515 - val_loss: 1.1944\n",
      "Epoch 6/25\n",
      "\u001b[1m25/25\u001b[0m \u001b[32m━━━━━━━━━━━━━━━━━━━━\u001b[0m\u001b[37m\u001b[0m \u001b[1m21s\u001b[0m 847ms/step - accuracy: 0.6438 - loss: 0.6120 - val_accuracy: 0.2427 - val_loss: 0.9502\n",
      "Epoch 7/25\n",
      "\u001b[1m25/25\u001b[0m \u001b[32m━━━━━━━━━━━━━━━━━━━━\u001b[0m\u001b[37m\u001b[0m \u001b[1m21s\u001b[0m 841ms/step - accuracy: 0.6486 - loss: 0.6051 - val_accuracy: 0.2913 - val_loss: 0.8402\n",
      "Epoch 8/25\n",
      "\u001b[1m25/25\u001b[0m \u001b[32m━━━━━━━━━━━━━━━━━━━━\u001b[0m\u001b[37m\u001b[0m \u001b[1m21s\u001b[0m 841ms/step - accuracy: 0.6454 - loss: 0.6073 - val_accuracy: 0.4223 - val_loss: 1.6135\n",
      "Epoch 9/25\n",
      "\u001b[1m25/25\u001b[0m \u001b[32m━━━━━━━━━━━━━━━━━━━━\u001b[0m\u001b[37m\u001b[0m \u001b[1m22s\u001b[0m 887ms/step - accuracy: 0.6151 - loss: 0.6502 - val_accuracy: 0.3107 - val_loss: 0.9398\n",
      "Epoch 10/25\n",
      "\u001b[1m25/25\u001b[0m \u001b[32m━━━━━━━━━━━━━━━━━━━━\u001b[0m\u001b[37m\u001b[0m \u001b[1m21s\u001b[0m 848ms/step - accuracy: 0.6909 - loss: 0.5861 - val_accuracy: 0.3495 - val_loss: 1.0832\n",
      "Epoch 11/25\n",
      "\u001b[1m25/25\u001b[0m \u001b[32m━━━━━━━━━━━━━━━━━━━━\u001b[0m\u001b[37m\u001b[0m \u001b[1m21s\u001b[0m 854ms/step - accuracy: 0.7076 - loss: 0.5597 - val_accuracy: 0.3398 - val_loss: 0.9674\n",
      "Epoch 12/25\n",
      "\u001b[1m25/25\u001b[0m \u001b[32m━━━━━━━━━━━━━━━━━━━━\u001b[0m\u001b[37m\u001b[0m \u001b[1m21s\u001b[0m 857ms/step - accuracy: 0.7129 - loss: 0.5537 - val_accuracy: 0.3495 - val_loss: 1.0224\n",
      "Epoch 13/25\n",
      "\u001b[1m25/25\u001b[0m \u001b[32m━━━━━━━━━━━━━━━━━━━━\u001b[0m\u001b[37m\u001b[0m \u001b[1m21s\u001b[0m 846ms/step - accuracy: 0.7237 - loss: 0.5284 - val_accuracy: 0.4806 - val_loss: 0.7959\n",
      "Epoch 14/25\n",
      "\u001b[1m25/25\u001b[0m \u001b[32m━━━━━━━━━━━━━━━━━━━━\u001b[0m\u001b[37m\u001b[0m \u001b[1m21s\u001b[0m 851ms/step - accuracy: 0.7041 - loss: 0.5459 - val_accuracy: 0.4903 - val_loss: 0.8157\n",
      "Epoch 15/25\n",
      "\u001b[1m25/25\u001b[0m \u001b[32m━━━━━━━━━━━━━━━━━━━━\u001b[0m\u001b[37m\u001b[0m \u001b[1m22s\u001b[0m 870ms/step - accuracy: 0.7591 - loss: 0.5028 - val_accuracy: 0.3835 - val_loss: 1.0459\n",
      "Epoch 16/25\n",
      "\u001b[1m25/25\u001b[0m \u001b[32m━━━━━━━━━━━━━━━━━━━━\u001b[0m\u001b[37m\u001b[0m \u001b[1m21s\u001b[0m 857ms/step - accuracy: 0.7372 - loss: 0.5092 - val_accuracy: 0.4272 - val_loss: 1.0775\n",
      "Epoch 17/25\n",
      "\u001b[1m25/25\u001b[0m \u001b[32m━━━━━━━━━━━━━━━━━━━━\u001b[0m\u001b[37m\u001b[0m \u001b[1m21s\u001b[0m 852ms/step - accuracy: 0.7754 - loss: 0.4656 - val_accuracy: 0.5194 - val_loss: 0.8902\n",
      "Epoch 18/25\n",
      "\u001b[1m25/25\u001b[0m \u001b[32m━━━━━━━━━━━━━━━━━━━━\u001b[0m\u001b[37m\u001b[0m \u001b[1m21s\u001b[0m 849ms/step - accuracy: 0.7731 - loss: 0.4743 - val_accuracy: 0.5049 - val_loss: 0.9116\n",
      "Epoch 19/25\n",
      "\u001b[1m25/25\u001b[0m \u001b[32m━━━━━━━━━━━━━━━━━━━━\u001b[0m\u001b[37m\u001b[0m \u001b[1m21s\u001b[0m 847ms/step - accuracy: 0.7858 - loss: 0.4337 - val_accuracy: 0.5146 - val_loss: 0.9798\n",
      "Epoch 20/25\n",
      "\u001b[1m25/25\u001b[0m \u001b[32m━━━━━━━━━━━━━━━━━━━━\u001b[0m\u001b[37m\u001b[0m \u001b[1m21s\u001b[0m 851ms/step - accuracy: 0.7802 - loss: 0.4371 - val_accuracy: 0.5437 - val_loss: 0.9694\n",
      "Epoch 21/25\n",
      "\u001b[1m25/25\u001b[0m \u001b[32m━━━━━━━━━━━━━━━━━━━━\u001b[0m\u001b[37m\u001b[0m \u001b[1m21s\u001b[0m 834ms/step - accuracy: 0.7987 - loss: 0.4496 - val_accuracy: 0.5243 - val_loss: 1.0286\n",
      "Epoch 22/25\n",
      "\u001b[1m25/25\u001b[0m \u001b[32m━━━━━━━━━━━━━━━━━━━━\u001b[0m\u001b[37m\u001b[0m \u001b[1m21s\u001b[0m 849ms/step - accuracy: 0.8031 - loss: 0.4313 - val_accuracy: 0.5485 - val_loss: 0.8740\n",
      "Epoch 23/25\n",
      "\u001b[1m25/25\u001b[0m \u001b[32m━━━━━━━━━━━━━━━━━━━━\u001b[0m\u001b[37m\u001b[0m \u001b[1m21s\u001b[0m 851ms/step - accuracy: 0.8020 - loss: 0.4407 - val_accuracy: 0.5874 - val_loss: 0.8479\n",
      "Epoch 24/25\n",
      "\u001b[1m25/25\u001b[0m \u001b[32m━━━━━━━━━━━━━━━━━━━━\u001b[0m\u001b[37m\u001b[0m \u001b[1m21s\u001b[0m 849ms/step - accuracy: 0.8077 - loss: 0.4289 - val_accuracy: 0.5243 - val_loss: 1.0290\n",
      "Epoch 25/25\n",
      "\u001b[1m25/25\u001b[0m \u001b[32m━━━━━━━━━━━━━━━━━━━━\u001b[0m\u001b[37m\u001b[0m \u001b[1m21s\u001b[0m 850ms/step - accuracy: 0.7828 - loss: 0.4524 - val_accuracy: 0.5631 - val_loss: 0.8439\n"
     ]
    },
    {
     "data": {
      "text/plain": [
       "<keras.src.callbacks.history.History at 0x1f33c62a9e0>"
      ]
     },
     "execution_count": 35,
     "metadata": {},
     "output_type": "execute_result"
    }
   ],
   "source": [
    "cnn.fit(x = training_set, validation_data = test_set, epochs = 25)"
   ]
  },
  {
   "cell_type": "code",
   "execution_count": null,
   "id": "f8bfd481-8522-4efa-b0b4-9de0054c4bb4",
   "metadata": {},
   "outputs": [],
   "source": []
  },
  {
   "cell_type": "code",
   "execution_count": null,
   "id": "1ed22c0b-a79f-4f87-885c-bc9579409b87",
   "metadata": {},
   "outputs": [],
   "source": []
  }
 ],
 "metadata": {
  "kernelspec": {
   "display_name": "Python 3 (ipykernel)",
   "language": "python",
   "name": "python3"
  },
  "language_info": {
   "codemirror_mode": {
    "name": "ipython",
    "version": 3
   },
   "file_extension": ".py",
   "mimetype": "text/x-python",
   "name": "python",
   "nbconvert_exporter": "python",
   "pygments_lexer": "ipython3",
   "version": "3.10.16"
  }
 },
 "nbformat": 4,
 "nbformat_minor": 5
}
